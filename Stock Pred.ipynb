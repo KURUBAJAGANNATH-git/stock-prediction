{
 "cells": [
  {
   "cell_type": "code",
   "execution_count": 2,
   "id": "3436eb8b-744b-4233-9b1e-6a0603ff03e9",
   "metadata": {},
   "outputs": [],
   "source": [
    "import import_ipynb\n",
    "import numpy as np\n",
    "import pandas as pd\n",
    "import matplotlib.pyplot as plt\n",
    "import yfinance as yf"
   ]
  },
  {
   "cell_type": "code",
   "execution_count": 4,
   "id": "45151927-d952-424a-9b6c-79491e9b9bbd",
   "metadata": {},
   "outputs": [
    {
     "name": "stderr",
     "output_type": "stream",
     "text": [
      "[*********************100%%**********************]  1 of 1 completed\n"
     ]
    }
   ],
   "source": [
    "start = '2012-01-01'\n",
    "end = '2022-12-21'\n",
    "stock = 'GOOG'\n",
    "\n",
    "data = yf.download(stock, start, end)"
   ]
  },
  {
   "cell_type": "code",
   "execution_count": 2,
   "id": "12482bf2-e3ce-486a-97c2-73e94e5d7d3a",
   "metadata": {},
   "outputs": [
    {
     "name": "stdout",
     "output_type": "stream",
     "text": [
      "Requirement already satisfied: yfinance in c:\\users\\jkuruba\\appdata\\local\\anaconda3\\lib\\site-packages (0.2.40)\n",
      "Requirement already satisfied: pandas>=1.3.0 in c:\\users\\jkuruba\\appdata\\local\\anaconda3\\lib\\site-packages (from yfinance) (2.2.2)\n",
      "Requirement already satisfied: numpy>=1.16.5 in c:\\users\\jkuruba\\appdata\\local\\anaconda3\\lib\\site-packages (from yfinance) (1.26.4)\n",
      "Requirement already satisfied: requests>=2.31 in c:\\users\\jkuruba\\appdata\\local\\anaconda3\\lib\\site-packages (from yfinance) (2.32.2)\n",
      "Requirement already satisfied: multitasking>=0.0.7 in c:\\users\\jkuruba\\appdata\\local\\anaconda3\\lib\\site-packages (from yfinance) (0.0.11)\n",
      "Requirement already satisfied: lxml>=4.9.1 in c:\\users\\jkuruba\\appdata\\local\\anaconda3\\lib\\site-packages (from yfinance) (5.2.1)\n",
      "Requirement already satisfied: platformdirs>=2.0.0 in c:\\users\\jkuruba\\appdata\\local\\anaconda3\\lib\\site-packages (from yfinance) (3.10.0)\n",
      "Requirement already satisfied: pytz>=2022.5 in c:\\users\\jkuruba\\appdata\\local\\anaconda3\\lib\\site-packages (from yfinance) (2024.1)\n",
      "Requirement already satisfied: frozendict>=2.3.4 in c:\\users\\jkuruba\\appdata\\local\\anaconda3\\lib\\site-packages (from yfinance) (2.4.2)\n",
      "Requirement already satisfied: peewee>=3.16.2 in c:\\users\\jkuruba\\appdata\\local\\anaconda3\\lib\\site-packages (from yfinance) (3.17.5)\n",
      "Requirement already satisfied: beautifulsoup4>=4.11.1 in c:\\users\\jkuruba\\appdata\\local\\anaconda3\\lib\\site-packages (from yfinance) (4.12.3)\n",
      "Requirement already satisfied: html5lib>=1.1 in c:\\users\\jkuruba\\appdata\\local\\anaconda3\\lib\\site-packages (from yfinance) (1.1)\n",
      "Requirement already satisfied: soupsieve>1.2 in c:\\users\\jkuruba\\appdata\\local\\anaconda3\\lib\\site-packages (from beautifulsoup4>=4.11.1->yfinance) (2.5)\n",
      "Requirement already satisfied: six>=1.9 in c:\\users\\jkuruba\\appdata\\local\\anaconda3\\lib\\site-packages (from html5lib>=1.1->yfinance) (1.16.0)\n",
      "Requirement already satisfied: webencodings in c:\\users\\jkuruba\\appdata\\local\\anaconda3\\lib\\site-packages (from html5lib>=1.1->yfinance) (0.5.1)\n",
      "Requirement already satisfied: python-dateutil>=2.8.2 in c:\\users\\jkuruba\\appdata\\local\\anaconda3\\lib\\site-packages (from pandas>=1.3.0->yfinance) (2.9.0.post0)\n",
      "Requirement already satisfied: tzdata>=2022.7 in c:\\users\\jkuruba\\appdata\\local\\anaconda3\\lib\\site-packages (from pandas>=1.3.0->yfinance) (2023.3)\n",
      "Requirement already satisfied: charset-normalizer<4,>=2 in c:\\users\\jkuruba\\appdata\\local\\anaconda3\\lib\\site-packages (from requests>=2.31->yfinance) (2.0.4)\n",
      "Requirement already satisfied: idna<4,>=2.5 in c:\\users\\jkuruba\\appdata\\local\\anaconda3\\lib\\site-packages (from requests>=2.31->yfinance) (3.7)\n",
      "Requirement already satisfied: urllib3<3,>=1.21.1 in c:\\users\\jkuruba\\appdata\\local\\anaconda3\\lib\\site-packages (from requests>=2.31->yfinance) (2.2.2)\n",
      "Requirement already satisfied: certifi>=2017.4.17 in c:\\users\\jkuruba\\appdata\\local\\anaconda3\\lib\\site-packages (from requests>=2.31->yfinance) (2024.7.4)\n"
     ]
    }
   ],
   "source": [
    "!pip install yfinance"
   ]
  },
  {
   "cell_type": "code",
   "execution_count": 3,
   "id": "ca9a0ed4-cc92-4f64-b98b-17977c856406",
   "metadata": {},
   "outputs": [
    {
     "ename": "NameError",
     "evalue": "name 'data' is not defined",
     "output_type": "error",
     "traceback": [
      "\u001b[1;31m---------------------------------------------------------------------------\u001b[0m",
      "\u001b[1;31mNameError\u001b[0m                                 Traceback (most recent call last)",
      "Cell \u001b[1;32mIn[3], line 1\u001b[0m\n\u001b[1;32m----> 1\u001b[0m data\n",
      "\u001b[1;31mNameError\u001b[0m: name 'data' is not defined"
     ]
    }
   ],
   "source": [
    "data"
   ]
  },
  {
   "cell_type": "code",
   "execution_count": null,
   "id": "60535bb1-4a57-48b1-9a89-1d8a1ccdace9",
   "metadata": {},
   "outputs": [],
   "source": [
    "data.reset_index(inplace=True)"
   ]
  },
  {
   "cell_type": "code",
   "execution_count": null,
   "id": "0bc45473-e94f-453c-a488-176207283708",
   "metadata": {},
   "outputs": [],
   "source": [
    "data"
   ]
  },
  {
   "cell_type": "code",
   "execution_count": 14,
   "id": "2ed4b068-b620-420f-aa15-bc23f639c2ed",
   "metadata": {},
   "outputs": [],
   "source": [
    "ma_100_days = data.Close.rolling(100).mean()"
   ]
  },
  {
   "cell_type": "code",
   "execution_count": 16,
   "id": "b87a8af0-efbc-49f4-b7dd-ed561699f4c1",
   "metadata": {},
   "outputs": [
    {
     "data": {
      "text/plain": [
       "0            NaN\n",
       "1            NaN\n",
       "2            NaN\n",
       "3            NaN\n",
       "4            NaN\n",
       "          ...   \n",
       "2756    103.6147\n",
       "2757    103.4723\n",
       "2758    103.2449\n",
       "2759    102.9905\n",
       "2760    102.7204\n",
       "Name: Close, Length: 2761, dtype: float64"
      ]
     },
     "execution_count": 16,
     "metadata": {},
     "output_type": "execute_result"
    }
   ],
   "source": [
    "ma_100_days"
   ]
  },
  {
   "cell_type": "code",
   "execution_count": 18,
   "id": "051233a2-5b69-41ca-a406-c87c87234bce",
   "metadata": {},
   "outputs": [
    {
     "data": {
      "text/plain": [
       "[<matplotlib.lines.Line2D at 0x1776e110b60>]"
      ]
     },
     "execution_count": 18,
     "metadata": {},
     "output_type": "execute_result"
    },
    {
     "data": {
      "image/png": "[encoded data removed]",
      "text/plain": [
       "<Figure size 800x600 with 1 Axes>"
      ]
     },
     "metadata": {},
     "output_type": "display_data"
    }
   ],
   "source": [
    "plt.figure(figsize=(8,6))\n",
    "plt.plot(ma_100_days, 'r')\n",
    "plt.plot(data.Close, 'g')"
   ]
  },
  {
   "cell_type": "code",
   "execution_count": 20,
   "id": "3cd3162a-d5d0-4a24-9625-5163291662e1",
   "metadata": {},
   "outputs": [],
   "source": [
    "ma_200_days = data.Close.rolling(200).mean()"
   ]
  },
  {
   "cell_type": "code",
   "execution_count": 22,
   "id": "3dccde8a-a3ab-4b90-b8b0-bfc142996383",
   "metadata": {},
   "outputs": [
    {
     "data": {
      "text/plain": [
       "0              NaN\n",
       "1              NaN\n",
       "2              NaN\n",
       "3              NaN\n",
       "4              NaN\n",
       "           ...    \n",
       "2756    112.411963\n",
       "2757    112.194205\n",
       "2758    111.976965\n",
       "2759    111.762105\n",
       "2760    111.577933\n",
       "Name: Close, Length: 2761, dtype: float64"
      ]
     },
     "execution_count": 22,
     "metadata": {},
     "output_type": "execute_result"
    }
   ],
   "source": [
    "ma_200_days"
   ]
  },
  {
   "cell_type": "code",
   "execution_count": 24,
   "id": "c1582aae-c2d6-4485-9095-cbd2f7674d87",
   "metadata": {},
   "outputs": [
    {
     "data": {
      "text/plain": [
       "[<matplotlib.lines.Line2D at 0x1776f873680>]"
      ]
     },
     "execution_count": 24,
     "metadata": {},
     "output_type": "execute_result"
    },
    {
     "data": {
      "image/png": "[encoded data removed]",
      "text/plain": [
       "<Figure size 800x600 with 1 Axes>"
      ]
     },
     "metadata": {},
     "output_type": "display_data"
    }
   ],
   "source": [
    "plt.figure(figsize=(8,6))\n",
    "plt.plot(ma_100_days, 'r')\n",
    "plt.plot(ma_200_days, 'b')\n",
    "plt.plot(data.Close, 'g')"
   ]
  },
  {
   "cell_type": "code",
   "execution_count": 26,
   "id": "45a1d78c-f429-46b3-a3fa-809b1ed1ce5e",
   "metadata": {},
   "outputs": [],
   "source": [
    "data.dropna(inplace=True)"
   ]
  },
  {
   "cell_type": "code",
   "execution_count": 28,
   "id": "b49792b7-c296-43fb-8d81-48a3c2e2ef47",
   "metadata": {},
   "outputs": [],
   "source": [
    "data_train=pd.DataFrame(data.Close[0 : int(len(data)*0.80)])\n",
    "data_test=pd.DataFrame(data.Close[int(len(data)*0.80) : len(data)])"
   ]
  },
  {
   "cell_type": "code",
   "execution_count": 30,
   "id": "991ac8cc-8173-438e-9fff-aa57fac15c83",
   "metadata": {},
   "outputs": [
    {
     "data": {
      "text/plain": [
       "2208"
      ]
     },
     "execution_count": 30,
     "metadata": {},
     "output_type": "execute_result"
    }
   ],
   "source": [
    "data_train.shape[0]"
   ]
  },
  {
   "cell_type": "code",
   "execution_count": 32,
   "id": "8781ad0f-6e8e-4b50-b56f-3530b4d3c272",
   "metadata": {},
   "outputs": [],
   "source": [
    "from sklearn.preprocessing import MinMaxScaler\n",
    "scaler = MinMaxScaler(feature_range=(0,1))"
   ]
  },
  {
   "cell_type": "code",
   "execution_count": 34,
   "id": "523043c5-d89f-484a-b8e8-986878b722f7",
   "metadata": {},
   "outputs": [],
   "source": [
    "data_train_scale = scaler.fit_transform(data_train)"
   ]
  },
  {
   "cell_type": "code",
   "execution_count": 36,
   "id": "844fced8-7f47-4224-bede-684f96833fbd",
   "metadata": {},
   "outputs": [],
   "source": [
    "x = []\n",
    "y = []\n",
    "\n",
    "for i in range(100, data_train_scale.shape[0]):\n",
    "    x.append(data_train_scale[i-100:i])\n",
    "    y.append(data_train_scale[i,0])"
   ]
  },
  {
   "cell_type": "code",
   "execution_count": 38,
   "id": "1e8f03ad-d8ac-4f0d-886f-db3585a00717",
   "metadata": {},
   "outputs": [],
   "source": [
    "x, y = np.array(x), np.array(y)"
   ]
  },
  {
   "cell_type": "code",
   "execution_count": 40,
   "id": "b88aa91a-b095-4116-86db-f91ac5c9ab27",
   "metadata": {},
   "outputs": [],
   "source": [
    "from keras.layers import Dense, Dropout, LSTM\n",
    "from keras.models import Sequential"
   ]
  },
  {
   "cell_type": "code",
   "execution_count": 87,
   "id": "ff39d223-8a5a-4a30-bbe1-212cb4963b53",
   "metadata": {},
   "outputs": [
    {
     "name": "stdout",
     "output_type": "stream",
     "text": [
      "Collecting keras\n",
      "  Downloading keras-3.4.1-py3-none-any.whl.metadata (5.8 kB)\n",
      "Collecting absl-py (from keras)\n",
      "  Downloading absl_py-2.1.0-py3-none-any.whl.metadata (2.3 kB)\n",
      "Requirement already satisfied: numpy in c:\\users\\jkuruba\\appdata\\local\\anaconda3\\lib\\site-packages (from keras) (1.26.4)\n",
      "Requirement already satisfied: rich in c:\\users\\jkuruba\\appdata\\local\\anaconda3\\lib\\site-packages (from keras) (13.3.5)\n",
      "Collecting namex (from keras)\n",
      "  Downloading namex-0.0.8-py3-none-any.whl.metadata (246 bytes)\n",
      "Requirement already satisfied: h5py in c:\\users\\jkuruba\\appdata\\local\\anaconda3\\lib\\site-packages (from keras) (3.11.0)\n",
      "Collecting optree (from keras)\n",
      "  Downloading optree-0.12.1-cp312-cp312-win_amd64.whl.metadata (48 kB)\n",
      "     ---------------------------------------- 0.0/48.7 kB ? eta -:--:--\n",
      "     ---------------------------------------- 0.0/48.7 kB ? eta -:--:--\n",
      "     -------- ------------------------------- 10.2/48.7 kB ? eta -:--:--\n",
      "     ----------------------- -------------- 30.7/48.7 kB 220.2 kB/s eta 0:00:01\n",
      "     -------------------------------------- 48.7/48.7 kB 274.6 kB/s eta 0:00:00\n",
      "Collecting ml-dtypes (from keras)\n",
      "  Downloading ml_dtypes-0.4.0-cp312-cp312-win_amd64.whl.metadata (20 kB)\n",
      "Requirement already satisfied: packaging in c:\\users\\jkuruba\\appdata\\local\\anaconda3\\lib\\site-packages (from keras) (23.2)\n",
      "Requirement already satisfied: typing-extensions>=4.5.0 in c:\\users\\jkuruba\\appdata\\local\\anaconda3\\lib\\site-packages (from optree->keras) (4.11.0)\n",
      "Requirement already satisfied: markdown-it-py<3.0.0,>=2.2.0 in c:\\users\\jkuruba\\appdata\\local\\anaconda3\\lib\\site-packages (from rich->keras) (2.2.0)\n",
      "Requirement already satisfied: pygments<3.0.0,>=2.13.0 in c:\\users\\jkuruba\\appdata\\local\\anaconda3\\lib\\site-packages (from rich->keras) (2.15.1)\n",
      "Requirement already satisfied: mdurl~=0.1 in c:\\users\\jkuruba\\appdata\\local\\anaconda3\\lib\\site-packages (from markdown-it-py<3.0.0,>=2.2.0->rich->keras) (0.1.0)\n",
      "Downloading keras-3.4.1-py3-none-any.whl (1.1 MB)\n",
      "   ---------------------------------------- 0.0/1.1 MB ? eta -:--:--\n",
      "   - -------------------------------------- 0.0/1.1 MB ? eta -:--:--\n",
      "   ----- ---------------------------------- 0.1/1.1 MB 1.7 MB/s eta 0:00:01\n",
      "   ---------- ----------------------------- 0.3/1.1 MB 2.5 MB/s eta 0:00:01\n",
      "   ----------------- ---------------------- 0.5/1.1 MB 3.0 MB/s eta 0:00:01\n",
      "   ------------------ --------------------- 0.5/1.1 MB 3.0 MB/s eta 0:00:01\n",
      "   ------------------------ --------------- 0.7/1.1 MB 2.7 MB/s eta 0:00:01\n",
      "   -------------------------- ------------- 0.7/1.1 MB 2.6 MB/s eta 0:00:01\n",
      "   --------------------------- ------------ 0.8/1.1 MB 2.4 MB/s eta 0:00:01\n",
      "   ------------------------------- -------- 0.9/1.1 MB 2.4 MB/s eta 0:00:01\n",
      "   ---------------------------------- ----- 1.0/1.1 MB 2.4 MB/s eta 0:00:01\n",
      "   -------------------------------------- - 1.1/1.1 MB 2.4 MB/s eta 0:00:01\n",
      "   ---------------------------------------  1.1/1.1 MB 2.4 MB/s eta 0:00:01\n",
      "   ---------------------------------------- 1.1/1.1 MB 2.2 MB/s eta 0:00:00\n",
      "Downloading absl_py-2.1.0-py3-none-any.whl (133 kB)\n",
      "   ---------------------------------------- 0.0/133.7 kB ? eta -:--:--\n",
      "   --------------------------- ------------ 92.2/133.7 kB 2.6 MB/s eta 0:00:01\n",
      "   ---------------------------------------  133.1/133.7 kB 2.6 MB/s eta 0:00:01\n",
      "   ---------------------------------------- 133.7/133.7 kB 1.3 MB/s eta 0:00:00\n",
      "Downloading ml_dtypes-0.4.0-cp312-cp312-win_amd64.whl (127 kB)\n",
      "   ---------------------------------------- 0.0/127.5 kB ? eta -:--:--\n",
      "   ---------------------------- ----------- 92.2/127.5 kB 2.6 MB/s eta 0:00:01\n",
      "   ---------------------------------------- 127.5/127.5 kB 1.9 MB/s eta 0:00:00\n",
      "Downloading namex-0.0.8-py3-none-any.whl (5.8 kB)\n",
      "Downloading optree-0.12.1-cp312-cp312-win_amd64.whl (267 kB)\n",
      "   ---------------------------------------- 0.0/267.2 kB ? eta -:--:--\n",
      "   ---------------- ----------------------- 112.6/267.2 kB 2.2 MB/s eta 0:00:01\n",
      "   ------------------------------ --------- 204.8/267.2 kB 2.5 MB/s eta 0:00:01\n",
      "   ---------------------------------------- 267.2/267.2 kB 2.1 MB/s eta 0:00:00\n",
      "Installing collected packages: namex, optree, ml-dtypes, absl-py, keras\n",
      "Successfully installed absl-py-2.1.0 keras-3.4.1 ml-dtypes-0.4.0 namex-0.0.8 optree-0.12.1\n"
     ]
    }
   ],
   "source": [
    "!pip install keras"
   ]
  },
  {
   "cell_type": "code",
   "execution_count": 41,
   "id": "e32c4666-4e36-4905-b5c0-201831de1d80",
   "metadata": {},
   "outputs": [],
   "source": [
    "from keras import models\n",
    "from keras.layers import Dense, Dropout, LSTM\n",
    "from keras.models import Sequential"
   ]
  },
  {
   "cell_type": "code",
   "execution_count": 44,
   "id": "9c19800a-4173-4711-8a6b-f3fe628d780e",
   "metadata": {},
   "outputs": [
    {
     "name": "stderr",
     "output_type": "stream",
     "text": [
      "C:\\Users\\jkuruba\\AppData\\Local\\anaconda3\\Lib\\site-packages\\keras\\src\\layers\\rnn\\rnn.py:204: UserWarning: Do not pass an `input_shape`/`input_dim` argument to a layer. When using Sequential models, prefer using an `Input(shape)` object as the first layer in the model instead.\n",
      "  super().__init__(**kwargs)\n"
     ]
    }
   ],
   "source": [
    "model = Sequential()\n",
    "model.add(LSTM(units = 50, activation = 'relu', return_sequences = True, input_shape = ((x.shape[1],1))))\n",
    "model.add(Dropout(0.2))\n",
    "model.add(LSTM(units = 60, activation = 'relu', return_sequences = True))\n",
    "model.add(Dropout(0.3))\n",
    "model.add(LSTM(units = 80, activation = 'relu', return_sequences = True))\n",
    "model.add(Dropout(0.4))\n",
    "model.add(LSTM(units = 120, activation = 'relu'))\n",
    "model.add(Dropout(0.5))\n",
    "model.add(Dense(units=1))"
   ]
  },
  {
   "cell_type": "code",
   "execution_count": 109,
   "id": "7a934df7-edbf-43f8-a72f-cd889c27fdb3",
   "metadata": {},
   "outputs": [
    {
     "name": "stdout",
     "output_type": "stream",
     "text": [
      "Requirement already satisfied: tensorflow in c:\\users\\jkuruba\\appdata\\local\\anaconda3\\lib\\site-packages (2.16.2)\n",
      "Requirement already satisfied: tensorflow-intel==2.16.2 in c:\\users\\jkuruba\\appdata\\local\\anaconda3\\lib\\site-packages (from tensorflow) (2.16.2)\n",
      "Requirement already satisfied: absl-py>=1.0.0 in c:\\users\\jkuruba\\appdata\\local\\anaconda3\\lib\\site-packages (from tensorflow-intel==2.16.2->tensorflow) (2.1.0)\n",
      "Requirement already satisfied: astunparse>=1.6.0 in c:\\users\\jkuruba\\appdata\\local\\anaconda3\\lib\\site-packages (from tensorflow-intel==2.16.2->tensorflow) (1.6.3)\n",
      "Requirement already satisfied: flatbuffers>=23.5.26 in c:\\users\\jkuruba\\appdata\\local\\anaconda3\\lib\\site-packages (from tensorflow-intel==2.16.2->tensorflow) (24.3.25)\n",
      "Requirement already satisfied: gast!=0.5.0,!=0.5.1,!=0.5.2,>=0.2.1 in c:\\users\\jkuruba\\appdata\\local\\anaconda3\\lib\\site-packages (from tensorflow-intel==2.16.2->tensorflow) (0.6.0)\n",
      "Requirement already satisfied: google-pasta>=0.1.1 in c:\\users\\jkuruba\\appdata\\local\\anaconda3\\lib\\site-packages (from tensorflow-intel==2.16.2->tensorflow) (0.2.0)\n",
      "Requirement already satisfied: h5py>=3.10.0 in c:\\users\\jkuruba\\appdata\\local\\anaconda3\\lib\\site-packages (from tensorflow-intel==2.16.2->tensorflow) (3.11.0)\n",
      "Requirement already satisfied: libclang>=13.0.0 in c:\\users\\jkuruba\\appdata\\local\\anaconda3\\lib\\site-packages (from tensorflow-intel==2.16.2->tensorflow) (18.1.1)\n",
      "Requirement already satisfied: ml-dtypes~=0.3.1 in c:\\users\\jkuruba\\appdata\\local\\anaconda3\\lib\\site-packages (from tensorflow-intel==2.16.2->tensorflow) (0.3.2)\n",
      "Requirement already satisfied: opt-einsum>=2.3.2 in c:\\users\\jkuruba\\appdata\\local\\anaconda3\\lib\\site-packages (from tensorflow-intel==2.16.2->tensorflow) (3.3.0)\n",
      "Requirement already satisfied: packaging in c:\\users\\jkuruba\\appdata\\local\\anaconda3\\lib\\site-packages (from tensorflow-intel==2.16.2->tensorflow) (23.2)\n",
      "Requirement already satisfied: protobuf!=4.21.0,!=4.21.1,!=4.21.2,!=4.21.3,!=4.21.4,!=4.21.5,<5.0.0dev,>=3.20.3 in c:\\users\\jkuruba\\appdata\\local\\anaconda3\\lib\\site-packages (from tensorflow-intel==2.16.2->tensorflow) (3.20.3)\n",
      "Requirement already satisfied: requests<3,>=2.21.0 in c:\\users\\jkuruba\\appdata\\local\\anaconda3\\lib\\site-packages (from tensorflow-intel==2.16.2->tensorflow) (2.32.2)\n",
      "Requirement already satisfied: setuptools in c:\\users\\jkuruba\\appdata\\local\\anaconda3\\lib\\site-packages (from tensorflow-intel==2.16.2->tensorflow) (69.5.1)\n",
      "Requirement already satisfied: six>=1.12.0 in c:\\users\\jkuruba\\appdata\\local\\anaconda3\\lib\\site-packages (from tensorflow-intel==2.16.2->tensorflow) (1.16.0)\n",
      "Requirement already satisfied: termcolor>=1.1.0 in c:\\users\\jkuruba\\appdata\\local\\anaconda3\\lib\\site-packages (from tensorflow-intel==2.16.2->tensorflow) (2.4.0)\n",
      "Requirement already satisfied: typing-extensions>=3.6.6 in c:\\users\\jkuruba\\appdata\\local\\anaconda3\\lib\\site-packages (from tensorflow-intel==2.16.2->tensorflow) (4.11.0)\n",
      "Requirement already satisfied: wrapt>=1.11.0 in c:\\users\\jkuruba\\appdata\\local\\anaconda3\\lib\\site-packages (from tensorflow-intel==2.16.2->tensorflow) (1.14.1)\n",
      "Requirement already satisfied: grpcio<2.0,>=1.24.3 in c:\\users\\jkuruba\\appdata\\local\\anaconda3\\lib\\site-packages (from tensorflow-intel==2.16.2->tensorflow) (1.64.1)\n",
      "Requirement already satisfied: tensorboard<2.17,>=2.16 in c:\\users\\jkuruba\\appdata\\local\\anaconda3\\lib\\site-packages (from tensorflow-intel==2.16.2->tensorflow) (2.16.2)\n",
      "Requirement already satisfied: keras>=3.0.0 in c:\\users\\jkuruba\\appdata\\local\\anaconda3\\lib\\site-packages (from tensorflow-intel==2.16.2->tensorflow) (3.4.1)\n",
      "Requirement already satisfied: numpy<2.0.0,>=1.26.0 in c:\\users\\jkuruba\\appdata\\local\\anaconda3\\lib\\site-packages (from tensorflow-intel==2.16.2->tensorflow) (1.26.4)\n",
      "Requirement already satisfied: wheel<1.0,>=0.23.0 in c:\\users\\jkuruba\\appdata\\local\\anaconda3\\lib\\site-packages (from astunparse>=1.6.0->tensorflow-intel==2.16.2->tensorflow) (0.43.0)\n",
      "Requirement already satisfied: rich in c:\\users\\jkuruba\\appdata\\local\\anaconda3\\lib\\site-packages (from keras>=3.0.0->tensorflow-intel==2.16.2->tensorflow) (13.3.5)\n",
      "Requirement already satisfied: namex in c:\\users\\jkuruba\\appdata\\local\\anaconda3\\lib\\site-packages (from keras>=3.0.0->tensorflow-intel==2.16.2->tensorflow) (0.0.8)\n",
      "Requirement already satisfied: optree in c:\\users\\jkuruba\\appdata\\local\\anaconda3\\lib\\site-packages (from keras>=3.0.0->tensorflow-intel==2.16.2->tensorflow) (0.12.1)\n",
      "Requirement already satisfied: charset-normalizer<4,>=2 in c:\\users\\jkuruba\\appdata\\local\\anaconda3\\lib\\site-packages (from requests<3,>=2.21.0->tensorflow-intel==2.16.2->tensorflow) (2.0.4)\n",
      "Requirement already satisfied: idna<4,>=2.5 in c:\\users\\jkuruba\\appdata\\local\\anaconda3\\lib\\site-packages (from requests<3,>=2.21.0->tensorflow-intel==2.16.2->tensorflow) (3.7)\n",
      "Requirement already satisfied: urllib3<3,>=1.21.1 in c:\\users\\jkuruba\\appdata\\local\\anaconda3\\lib\\site-packages (from requests<3,>=2.21.0->tensorflow-intel==2.16.2->tensorflow) (2.2.2)\n",
      "Requirement already satisfied: certifi>=2017.4.17 in c:\\users\\jkuruba\\appdata\\local\\anaconda3\\lib\\site-packages (from requests<3,>=2.21.0->tensorflow-intel==2.16.2->tensorflow) (2024.6.2)\n",
      "Requirement already satisfied: markdown>=2.6.8 in c:\\users\\jkuruba\\appdata\\local\\anaconda3\\lib\\site-packages (from tensorboard<2.17,>=2.16->tensorflow-intel==2.16.2->tensorflow) (3.4.1)\n",
      "Requirement already satisfied: tensorboard-data-server<0.8.0,>=0.7.0 in c:\\users\\jkuruba\\appdata\\local\\anaconda3\\lib\\site-packages (from tensorboard<2.17,>=2.16->tensorflow-intel==2.16.2->tensorflow) (0.7.2)\n",
      "Requirement already satisfied: werkzeug>=1.0.1 in c:\\users\\jkuruba\\appdata\\local\\anaconda3\\lib\\site-packages (from tensorboard<2.17,>=2.16->tensorflow-intel==2.16.2->tensorflow) (3.0.3)\n",
      "Requirement already satisfied: MarkupSafe>=2.1.1 in c:\\users\\jkuruba\\appdata\\local\\anaconda3\\lib\\site-packages (from werkzeug>=1.0.1->tensorboard<2.17,>=2.16->tensorflow-intel==2.16.2->tensorflow) (2.1.3)\n",
      "Requirement already satisfied: markdown-it-py<3.0.0,>=2.2.0 in c:\\users\\jkuruba\\appdata\\local\\anaconda3\\lib\\site-packages (from rich->keras>=3.0.0->tensorflow-intel==2.16.2->tensorflow) (2.2.0)\n",
      "Requirement already satisfied: pygments<3.0.0,>=2.13.0 in c:\\users\\jkuruba\\appdata\\local\\anaconda3\\lib\\site-packages (from rich->keras>=3.0.0->tensorflow-intel==2.16.2->tensorflow) (2.15.1)\n",
      "Requirement already satisfied: mdurl~=0.1 in c:\\users\\jkuruba\\appdata\\local\\anaconda3\\lib\\site-packages (from markdown-it-py<3.0.0,>=2.2.0->rich->keras>=3.0.0->tensorflow-intel==2.16.2->tensorflow) (0.1.0)\n"
     ]
    }
   ],
   "source": [
    "!pip install tensorflow"
   ]
  },
  {
   "cell_type": "code",
   "execution_count": 46,
   "id": "01a005aa-31a4-4c2c-a654-bf78b309feae",
   "metadata": {},
   "outputs": [],
   "source": [
    "import tensorflow as tf"
   ]
  },
  {
   "cell_type": "code",
   "execution_count": 48,
   "id": "d6c92385-711f-4b7b-8d97-160df0faeb0e",
   "metadata": {},
   "outputs": [],
   "source": [
    "import keras"
   ]
  },
  {
   "cell_type": "code",
   "execution_count": 50,
   "id": "b9e68ece-89ef-41f7-a43e-a72326025893",
   "metadata": {},
   "outputs": [
    {
     "data": {
      "text/plain": [
       "'3.4.1'"
      ]
     },
     "execution_count": 50,
     "metadata": {},
     "output_type": "execute_result"
    }
   ],
   "source": [
    "keras.__version__"
   ]
  },
  {
   "cell_type": "code",
   "execution_count": 9,
   "id": "c5437283-c6eb-42d8-8437-826524a5e4da",
   "metadata": {},
   "outputs": [
    {
     "ename": "SyntaxError",
     "evalue": "invalid syntax (2364869574.py, line 1)",
     "output_type": "error",
     "traceback": [
      "\u001b[1;36m  Cell \u001b[1;32mIn[9], line 1\u001b[1;36m\u001b[0m\n\u001b[1;33m    pip3 show keras\u001b[0m\n\u001b[1;37m         ^\u001b[0m\n\u001b[1;31mSyntaxError\u001b[0m\u001b[1;31m:\u001b[0m invalid syntax\n"
     ]
    }
   ],
   "source": [
    "pip3 show keras"
   ]
  },
  {
   "cell_type": "code",
   "execution_count": 52,
   "id": "07e0d05d-5e38-4480-8b6f-deeded64dcbc",
   "metadata": {},
   "outputs": [],
   "source": [
    "model.compile(optimizer = 'adam', loss = 'mean_squared_error')"
   ]
  },
  {
   "cell_type": "code",
   "execution_count": 54,
   "id": "43737e9a-cec9-401f-ab78-1feceb078f07",
   "metadata": {},
   "outputs": [
    {
     "name": "stdout",
     "output_type": "stream",
     "text": [
      "Epoch 1/50\n",
      "\u001b[1m66/66\u001b[0m \u001b[32m━━━━━━━━━━━━━━━━━━━━\u001b[0m\u001b[37m\u001b[0m \u001b[1m19s\u001b[0m 165ms/step - loss: 0.0751\n",
      "Epoch 2/50\n",
      "\u001b[1m66/66\u001b[0m \u001b[32m━━━━━━━━━━━━━━━━━━━━\u001b[0m\u001b[37m\u001b[0m \u001b[1m10s\u001b[0m 153ms/step - loss: 0.0060\n",
      "Epoch 3/50\n",
      "\u001b[1m66/66\u001b[0m \u001b[32m━━━━━━━━━━━━━━━━━━━━\u001b[0m\u001b[37m\u001b[0m \u001b[1m12s\u001b[0m 182ms/step - loss: 0.0063\n",
      "Epoch 4/50\n",
      "\u001b[1m66/66\u001b[0m \u001b[32m━━━━━━━━━━━━━━━━━━━━\u001b[0m\u001b[37m\u001b[0m \u001b[1m13s\u001b[0m 205ms/step - loss: 0.0051\n",
      "Epoch 5/50\n",
      "\u001b[1m66/66\u001b[0m \u001b[32m━━━━━━━━━━━━━━━━━━━━\u001b[0m\u001b[37m\u001b[0m \u001b[1m9s\u001b[0m 143ms/step - loss: 0.0050\n",
      "Epoch 6/50\n",
      "\u001b[1m66/66\u001b[0m \u001b[32m━━━━━━━━━━━━━━━━━━━━\u001b[0m\u001b[37m\u001b[0m \u001b[1m9s\u001b[0m 130ms/step - loss: 0.0051\n",
      "Epoch 7/50\n",
      "\u001b[1m66/66\u001b[0m \u001b[32m━━━━━━━━━━━━━━━━━━━━\u001b[0m\u001b[37m\u001b[0m \u001b[1m9s\u001b[0m 141ms/step - loss: 0.0045\n",
      "Epoch 8/50\n",
      "\u001b[1m66/66\u001b[0m \u001b[32m━━━━━━━━━━━━━━━━━━━━\u001b[0m\u001b[37m\u001b[0m \u001b[1m9s\u001b[0m 130ms/step - loss: 0.0049\n",
      "Epoch 9/50\n",
      "\u001b[1m66/66\u001b[0m \u001b[32m━━━━━━━━━━━━━━━━━━━━\u001b[0m\u001b[37m\u001b[0m \u001b[1m9s\u001b[0m 129ms/step - loss: 0.0043\n",
      "Epoch 10/50\n",
      "\u001b[1m66/66\u001b[0m \u001b[32m━━━━━━━━━━━━━━━━━━━━\u001b[0m\u001b[37m\u001b[0m \u001b[1m9s\u001b[0m 130ms/step - loss: 0.0042\n",
      "Epoch 11/50\n",
      "\u001b[1m66/66\u001b[0m \u001b[32m━━━━━━━━━━━━━━━━━━━━\u001b[0m\u001b[37m\u001b[0m \u001b[1m9s\u001b[0m 141ms/step - loss: 0.0041\n",
      "Epoch 12/50\n",
      "\u001b[1m66/66\u001b[0m \u001b[32m━━━━━━━━━━━━━━━━━━━━\u001b[0m\u001b[37m\u001b[0m \u001b[1m12s\u001b[0m 180ms/step - loss: 0.0038\n",
      "Epoch 13/50\n",
      "\u001b[1m66/66\u001b[0m \u001b[32m━━━━━━━━━━━━━━━━━━━━\u001b[0m\u001b[37m\u001b[0m \u001b[1m9s\u001b[0m 142ms/step - loss: 0.0036\n",
      "Epoch 14/50\n",
      "\u001b[1m66/66\u001b[0m \u001b[32m━━━━━━━━━━━━━━━━━━━━\u001b[0m\u001b[37m\u001b[0m \u001b[1m9s\u001b[0m 143ms/step - loss: 0.0030\n",
      "Epoch 15/50\n",
      "\u001b[1m66/66\u001b[0m \u001b[32m━━━━━━━━━━━━━━━━━━━━\u001b[0m\u001b[37m\u001b[0m \u001b[1m17s\u001b[0m 251ms/step - loss: 0.0031\n",
      "Epoch 16/50\n",
      "\u001b[1m66/66\u001b[0m \u001b[32m━━━━━━━━━━━━━━━━━━━━\u001b[0m\u001b[37m\u001b[0m \u001b[1m18s\u001b[0m 274ms/step - loss: 0.0034\n",
      "Epoch 17/50\n",
      "\u001b[1m66/66\u001b[0m \u001b[32m━━━━━━━━━━━━━━━━━━━━\u001b[0m\u001b[37m\u001b[0m \u001b[1m9s\u001b[0m 130ms/step - loss: 0.0032\n",
      "Epoch 18/50\n",
      "\u001b[1m66/66\u001b[0m \u001b[32m━━━━━━━━━━━━━━━━━━━━\u001b[0m\u001b[37m\u001b[0m \u001b[1m9s\u001b[0m 131ms/step - loss: 0.0026\n",
      "Epoch 19/50\n",
      "\u001b[1m66/66\u001b[0m \u001b[32m━━━━━━━━━━━━━━━━━━━━\u001b[0m\u001b[37m\u001b[0m \u001b[1m9s\u001b[0m 129ms/step - loss: 0.0029\n",
      "Epoch 20/50\n",
      "\u001b[1m66/66\u001b[0m \u001b[32m━━━━━━━━━━━━━━━━━━━━\u001b[0m\u001b[37m\u001b[0m \u001b[1m9s\u001b[0m 131ms/step - loss: 0.0027\n",
      "Epoch 21/50\n",
      "\u001b[1m66/66\u001b[0m \u001b[32m━━━━━━━━━━━━━━━━━━━━\u001b[0m\u001b[37m\u001b[0m \u001b[1m14s\u001b[0m 209ms/step - loss: 0.0026\n",
      "Epoch 22/50\n",
      "\u001b[1m66/66\u001b[0m \u001b[32m━━━━━━━━━━━━━━━━━━━━\u001b[0m\u001b[37m\u001b[0m \u001b[1m16s\u001b[0m 239ms/step - loss: 0.0026\n",
      "Epoch 23/50\n",
      "\u001b[1m66/66\u001b[0m \u001b[32m━━━━━━━━━━━━━━━━━━━━\u001b[0m\u001b[37m\u001b[0m \u001b[1m9s\u001b[0m 129ms/step - loss: 0.0028\n",
      "Epoch 24/50\n",
      "\u001b[1m66/66\u001b[0m \u001b[32m━━━━━━━━━━━━━━━━━━━━\u001b[0m\u001b[37m\u001b[0m \u001b[1m9s\u001b[0m 140ms/step - loss: 0.0025\n",
      "Epoch 25/50\n",
      "\u001b[1m66/66\u001b[0m \u001b[32m━━━━━━━━━━━━━━━━━━━━\u001b[0m\u001b[37m\u001b[0m \u001b[1m9s\u001b[0m 130ms/step - loss: 0.0023\n",
      "Epoch 26/50\n",
      "\u001b[1m66/66\u001b[0m \u001b[32m━━━━━━━━━━━━━━━━━━━━\u001b[0m\u001b[37m\u001b[0m \u001b[1m9s\u001b[0m 131ms/step - loss: 0.0023\n",
      "Epoch 27/50\n",
      "\u001b[1m66/66\u001b[0m \u001b[32m━━━━━━━━━━━━━━━━━━━━\u001b[0m\u001b[37m\u001b[0m \u001b[1m9s\u001b[0m 139ms/step - loss: 0.0025\n",
      "Epoch 28/50\n",
      "\u001b[1m66/66\u001b[0m \u001b[32m━━━━━━━━━━━━━━━━━━━━\u001b[0m\u001b[37m\u001b[0m \u001b[1m9s\u001b[0m 138ms/step - loss: 0.0022\n",
      "Epoch 29/50\n",
      "\u001b[1m66/66\u001b[0m \u001b[32m━━━━━━━━━━━━━━━━━━━━\u001b[0m\u001b[37m\u001b[0m \u001b[1m11s\u001b[0m 162ms/step - loss: 0.0022\n",
      "Epoch 30/50\n",
      "\u001b[1m66/66\u001b[0m \u001b[32m━━━━━━━━━━━━━━━━━━━━\u001b[0m\u001b[37m\u001b[0m \u001b[1m14s\u001b[0m 207ms/step - loss: 0.0021\n",
      "Epoch 31/50\n",
      "\u001b[1m66/66\u001b[0m \u001b[32m━━━━━━━━━━━━━━━━━━━━\u001b[0m\u001b[37m\u001b[0m \u001b[1m9s\u001b[0m 130ms/step - loss: 0.0023\n",
      "Epoch 32/50\n",
      "\u001b[1m66/66\u001b[0m \u001b[32m━━━━━━━━━━━━━━━━━━━━\u001b[0m\u001b[37m\u001b[0m \u001b[1m11s\u001b[0m 163ms/step - loss: 0.0022\n",
      "Epoch 33/50\n",
      "\u001b[1m66/66\u001b[0m \u001b[32m━━━━━━━━━━━━━━━━━━━━\u001b[0m\u001b[37m\u001b[0m \u001b[1m19s\u001b[0m 289ms/step - loss: 0.0020\n",
      "Epoch 34/50\n",
      "\u001b[1m66/66\u001b[0m \u001b[32m━━━━━━━━━━━━━━━━━━━━\u001b[0m\u001b[37m\u001b[0m \u001b[1m19s\u001b[0m 294ms/step - loss: 0.0020\n",
      "Epoch 35/50\n",
      "\u001b[1m66/66\u001b[0m \u001b[32m━━━━━━━━━━━━━━━━━━━━\u001b[0m\u001b[37m\u001b[0m \u001b[1m11s\u001b[0m 165ms/step - loss: 0.0021\n",
      "Epoch 36/50\n",
      "\u001b[1m66/66\u001b[0m \u001b[32m━━━━━━━━━━━━━━━━━━━━\u001b[0m\u001b[37m\u001b[0m \u001b[1m24s\u001b[0m 363ms/step - loss: 0.0018\n",
      "Epoch 37/50\n",
      "\u001b[1m66/66\u001b[0m \u001b[32m━━━━━━━━━━━━━━━━━━━━\u001b[0m\u001b[37m\u001b[0m \u001b[1m17s\u001b[0m 253ms/step - loss: 0.0020\n",
      "Epoch 38/50\n",
      "\u001b[1m66/66\u001b[0m \u001b[32m━━━━━━━━━━━━━━━━━━━━\u001b[0m\u001b[37m\u001b[0m \u001b[1m12s\u001b[0m 189ms/step - loss: 0.0022\n",
      "Epoch 39/50\n",
      "\u001b[1m66/66\u001b[0m \u001b[32m━━━━━━━━━━━━━━━━━━━━\u001b[0m\u001b[37m\u001b[0m \u001b[1m13s\u001b[0m 191ms/step - loss: 0.0017\n",
      "Epoch 40/50\n",
      "\u001b[1m66/66\u001b[0m \u001b[32m━━━━━━━━━━━━━━━━━━━━\u001b[0m\u001b[37m\u001b[0m \u001b[1m13s\u001b[0m 191ms/step - loss: 0.0021\n",
      "Epoch 41/50\n",
      "\u001b[1m66/66\u001b[0m \u001b[32m━━━━━━━━━━━━━━━━━━━━\u001b[0m\u001b[37m\u001b[0m \u001b[1m11s\u001b[0m 165ms/step - loss: 0.0021\n",
      "Epoch 42/50\n",
      "\u001b[1m66/66\u001b[0m \u001b[32m━━━━━━━━━━━━━━━━━━━━\u001b[0m\u001b[37m\u001b[0m \u001b[1m12s\u001b[0m 189ms/step - loss: 0.0018\n",
      "Epoch 43/50\n",
      "\u001b[1m66/66\u001b[0m \u001b[32m━━━━━━━━━━━━━━━━━━━━\u001b[0m\u001b[37m\u001b[0m \u001b[1m11s\u001b[0m 156ms/step - loss: 0.0019\n",
      "Epoch 44/50\n",
      "\u001b[1m66/66\u001b[0m \u001b[32m━━━━━━━━━━━━━━━━━━━━\u001b[0m\u001b[37m\u001b[0m \u001b[1m12s\u001b[0m 187ms/step - loss: 0.0019\n",
      "Epoch 45/50\n",
      "\u001b[1m66/66\u001b[0m \u001b[32m━━━━━━━━━━━━━━━━━━━━\u001b[0m\u001b[37m\u001b[0m \u001b[1m9s\u001b[0m 140ms/step - loss: 0.0019\n",
      "Epoch 46/50\n",
      "\u001b[1m66/66\u001b[0m \u001b[32m━━━━━━━━━━━━━━━━━━━━\u001b[0m\u001b[37m\u001b[0m \u001b[1m9s\u001b[0m 139ms/step - loss: 0.0018\n",
      "Epoch 47/50\n",
      "\u001b[1m66/66\u001b[0m \u001b[32m━━━━━━━━━━━━━━━━━━━━\u001b[0m\u001b[37m\u001b[0m \u001b[1m10s\u001b[0m 152ms/step - loss: 0.0020\n",
      "Epoch 48/50\n",
      "\u001b[1m66/66\u001b[0m \u001b[32m━━━━━━━━━━━━━━━━━━━━\u001b[0m\u001b[37m\u001b[0m \u001b[1m9s\u001b[0m 130ms/step - loss: 0.0018\n",
      "Epoch 49/50\n",
      "\u001b[1m66/66\u001b[0m \u001b[32m━━━━━━━━━━━━━━━━━━━━\u001b[0m\u001b[37m\u001b[0m \u001b[1m9s\u001b[0m 141ms/step - loss: 0.0022\n",
      "Epoch 50/50\n",
      "\u001b[1m66/66\u001b[0m \u001b[32m━━━━━━━━━━━━━━━━━━━━\u001b[0m\u001b[37m\u001b[0m \u001b[1m16s\u001b[0m 238ms/step - loss: 0.0019\n"
     ]
    },
    {
     "data": {
      "text/plain": [
       "<keras.src.callbacks.history.History at 0x1777a97b9b0>"
      ]
     },
     "execution_count": 54,
     "metadata": {},
     "output_type": "execute_result"
    }
   ],
   "source": [
    "model.fit(x,y, epochs = 50, batch_size = 32, verbose = 1)"
   ]
  },
  {
   "cell_type": "code",
   "execution_count": 56,
   "id": "c612959c-0d72-4d75-98ae-abc10651e98c",
   "metadata": {},
   "outputs": [
    {
     "data": {
      "text/html": [
       "<pre style=\"white-space:pre;overflow-x:auto;line-height:normal;font-family:Menlo,'DejaVu Sans Mono',consolas,'Courier New',monospace\"><span style=\"font-weight: bold\">Model: \"sequential\"</span>\n",
       "</pre>\n"
      ],
      "text/plain": [
       "\u001b[1mModel: \"sequential\"\u001b[0m\n"
      ]
     },
     "metadata": {},
     "output_type": "display_data"
    },
    {
     "data": {
      "text/html": [
       "<pre style=\"white-space:pre;overflow-x:auto;line-height:normal;font-family:Menlo,'DejaVu Sans Mono',consolas,'Courier New',monospace\">┏━━━━━━━━━━━━━━━━━━━━━━━━━━━━━━━━━┳━━━━━━━━━━━━━━━━━━━━━━━━┳━━━━━━━━━━━━━━━┓\n",
       "┃<span style=\"font-weight: bold\"> Layer (type)                    </span>┃<span style=\"font-weight: bold\"> Output Shape           </span>┃<span style=\"font-weight: bold\">       Param # </span>┃\n",
       "┡━━━━━━━━━━━━━━━━━━━━━━━━━━━━━━━━━╇━━━━━━━━━━━━━━━━━━━━━━━━╇━━━━━━━━━━━━━━━┩\n",
       "│ lstm (<span style=\"color: #0087ff; text-decoration-color: #0087ff\">LSTM</span>)                     │ (<span style=\"color: #00d7ff; text-decoration-color: #00d7ff\">None</span>, <span style=\"color: #00af00; text-decoration-color: #00af00\">100</span>, <span style=\"color: #00af00; text-decoration-color: #00af00\">50</span>)        │        <span style=\"color: #00af00; text-decoration-color: #00af00\">10,400</span> │\n",
       "├─────────────────────────────────┼────────────────────────┼───────────────┤\n",
       "│ dropout (<span style=\"color: #0087ff; text-decoration-color: #0087ff\">Dropout</span>)               │ (<span style=\"color: #00d7ff; text-decoration-color: #00d7ff\">None</span>, <span style=\"color: #00af00; text-decoration-color: #00af00\">100</span>, <span style=\"color: #00af00; text-decoration-color: #00af00\">50</span>)        │             <span style=\"color: #00af00; text-decoration-color: #00af00\">0</span> │\n",
       "├─────────────────────────────────┼────────────────────────┼───────────────┤\n",
       "│ lstm_1 (<span style=\"color: #0087ff; text-decoration-color: #0087ff\">LSTM</span>)                   │ (<span style=\"color: #00d7ff; text-decoration-color: #00d7ff\">None</span>, <span style=\"color: #00af00; text-decoration-color: #00af00\">100</span>, <span style=\"color: #00af00; text-decoration-color: #00af00\">60</span>)        │        <span style=\"color: #00af00; text-decoration-color: #00af00\">26,640</span> │\n",
       "├─────────────────────────────────┼────────────────────────┼───────────────┤\n",
       "│ dropout_1 (<span style=\"color: #0087ff; text-decoration-color: #0087ff\">Dropout</span>)             │ (<span style=\"color: #00d7ff; text-decoration-color: #00d7ff\">None</span>, <span style=\"color: #00af00; text-decoration-color: #00af00\">100</span>, <span style=\"color: #00af00; text-decoration-color: #00af00\">60</span>)        │             <span style=\"color: #00af00; text-decoration-color: #00af00\">0</span> │\n",
       "├─────────────────────────────────┼────────────────────────┼───────────────┤\n",
       "│ lstm_2 (<span style=\"color: #0087ff; text-decoration-color: #0087ff\">LSTM</span>)                   │ (<span style=\"color: #00d7ff; text-decoration-color: #00d7ff\">None</span>, <span style=\"color: #00af00; text-decoration-color: #00af00\">100</span>, <span style=\"color: #00af00; text-decoration-color: #00af00\">80</span>)        │        <span style=\"color: #00af00; text-decoration-color: #00af00\">45,120</span> │\n",
       "├─────────────────────────────────┼────────────────────────┼───────────────┤\n",
       "│ dropout_2 (<span style=\"color: #0087ff; text-decoration-color: #0087ff\">Dropout</span>)             │ (<span style=\"color: #00d7ff; text-decoration-color: #00d7ff\">None</span>, <span style=\"color: #00af00; text-decoration-color: #00af00\">100</span>, <span style=\"color: #00af00; text-decoration-color: #00af00\">80</span>)        │             <span style=\"color: #00af00; text-decoration-color: #00af00\">0</span> │\n",
       "├─────────────────────────────────┼────────────────────────┼───────────────┤\n",
       "│ lstm_3 (<span style=\"color: #0087ff; text-decoration-color: #0087ff\">LSTM</span>)                   │ (<span style=\"color: #00d7ff; text-decoration-color: #00d7ff\">None</span>, <span style=\"color: #00af00; text-decoration-color: #00af00\">120</span>)            │        <span style=\"color: #00af00; text-decoration-color: #00af00\">96,480</span> │\n",
       "├─────────────────────────────────┼────────────────────────┼───────────────┤\n",
       "│ dropout_3 (<span style=\"color: #0087ff; text-decoration-color: #0087ff\">Dropout</span>)             │ (<span style=\"color: #00d7ff; text-decoration-color: #00d7ff\">None</span>, <span style=\"color: #00af00; text-decoration-color: #00af00\">120</span>)            │             <span style=\"color: #00af00; text-decoration-color: #00af00\">0</span> │\n",
       "├─────────────────────────────────┼────────────────────────┼───────────────┤\n",
       "│ dense (<span style=\"color: #0087ff; text-decoration-color: #0087ff\">Dense</span>)                   │ (<span style=\"color: #00d7ff; text-decoration-color: #00d7ff\">None</span>, <span style=\"color: #00af00; text-decoration-color: #00af00\">1</span>)              │           <span style=\"color: #00af00; text-decoration-color: #00af00\">121</span> │\n",
       "└─────────────────────────────────┴────────────────────────┴───────────────┘\n",
       "</pre>\n"
      ],
      "text/plain": [
       "┏━━━━━━━━━━━━━━━━━━━━━━━━━━━━━━━━━┳━━━━━━━━━━━━━━━━━━━━━━━━┳━━━━━━━━━━━━━━━┓\n",
       "┃\u001b[1m \u001b[0m\u001b[1mLayer (type)                   \u001b[0m\u001b[1m \u001b[0m┃\u001b[1m \u001b[0m\u001b[1mOutput Shape          \u001b[0m\u001b[1m \u001b[0m┃\u001b[1m \u001b[0m\u001b[1m      Param #\u001b[0m\u001b[1m \u001b[0m┃\n",
       "┡━━━━━━━━━━━━━━━━━━━━━━━━━━━━━━━━━╇━━━━━━━━━━━━━━━━━━━━━━━━╇━━━━━━━━━━━━━━━┩\n",
       "│ lstm (\u001b[38;5;33mLSTM\u001b[0m)                     │ (\u001b[38;5;45mNone\u001b[0m, \u001b[38;5;34m100\u001b[0m, \u001b[38;5;34m50\u001b[0m)        │        \u001b[38;5;34m10,400\u001b[0m │\n",
       "├─────────────────────────────────┼────────────────────────┼───────────────┤\n",
       "│ dropout (\u001b[38;5;33mDropout\u001b[0m)               │ (\u001b[38;5;45mNone\u001b[0m, \u001b[38;5;34m100\u001b[0m, \u001b[38;5;34m50\u001b[0m)        │             \u001b[38;5;34m0\u001b[0m │\n",
       "├─────────────────────────────────┼────────────────────────┼───────────────┤\n",
       "│ lstm_1 (\u001b[38;5;33mLSTM\u001b[0m)                   │ (\u001b[38;5;45mNone\u001b[0m, \u001b[38;5;34m100\u001b[0m, \u001b[38;5;34m60\u001b[0m)        │        \u001b[38;5;34m26,640\u001b[0m │\n",
       "├─────────────────────────────────┼────────────────────────┼───────────────┤\n",
       "│ dropout_1 (\u001b[38;5;33mDropout\u001b[0m)             │ (\u001b[38;5;45mNone\u001b[0m, \u001b[38;5;34m100\u001b[0m, \u001b[38;5;34m60\u001b[0m)        │             \u001b[38;5;34m0\u001b[0m │\n",
       "├─────────────────────────────────┼────────────────────────┼───────────────┤\n",
       "│ lstm_2 (\u001b[38;5;33mLSTM\u001b[0m)                   │ (\u001b[38;5;45mNone\u001b[0m, \u001b[38;5;34m100\u001b[0m, \u001b[38;5;34m80\u001b[0m)        │        \u001b[38;5;34m45,120\u001b[0m │\n",
       "├─────────────────────────────────┼────────────────────────┼───────────────┤\n",
       "│ dropout_2 (\u001b[38;5;33mDropout\u001b[0m)             │ (\u001b[38;5;45mNone\u001b[0m, \u001b[38;5;34m100\u001b[0m, \u001b[38;5;34m80\u001b[0m)        │             \u001b[38;5;34m0\u001b[0m │\n",
       "├─────────────────────────────────┼────────────────────────┼───────────────┤\n",
       "│ lstm_3 (\u001b[38;5;33mLSTM\u001b[0m)                   │ (\u001b[38;5;45mNone\u001b[0m, \u001b[38;5;34m120\u001b[0m)            │        \u001b[38;5;34m96,480\u001b[0m │\n",
       "├─────────────────────────────────┼────────────────────────┼───────────────┤\n",
       "│ dropout_3 (\u001b[38;5;33mDropout\u001b[0m)             │ (\u001b[38;5;45mNone\u001b[0m, \u001b[38;5;34m120\u001b[0m)            │             \u001b[38;5;34m0\u001b[0m │\n",
       "├─────────────────────────────────┼────────────────────────┼───────────────┤\n",
       "│ dense (\u001b[38;5;33mDense\u001b[0m)                   │ (\u001b[38;5;45mNone\u001b[0m, \u001b[38;5;34m1\u001b[0m)              │           \u001b[38;5;34m121\u001b[0m │\n",
       "└─────────────────────────────────┴────────────────────────┴───────────────┘\n"
      ]
     },
     "metadata": {},
     "output_type": "display_data"
    },
    {
     "data": {
      "text/html": [
       "<pre style=\"white-space:pre;overflow-x:auto;line-height:normal;font-family:Menlo,'DejaVu Sans Mono',consolas,'Courier New',monospace\"><span style=\"font-weight: bold\"> Total params: </span><span style=\"color: #00af00; text-decoration-color: #00af00\">536,285</span> (2.05 MB)\n",
       "</pre>\n"
      ],
      "text/plain": [
       "\u001b[1m Total params: \u001b[0m\u001b[38;5;34m536,285\u001b[0m (2.05 MB)\n"
      ]
     },
     "metadata": {},
     "output_type": "display_data"
    },
    {
     "data": {
      "text/html": [
       "<pre style=\"white-space:pre;overflow-x:auto;line-height:normal;font-family:Menlo,'DejaVu Sans Mono',consolas,'Courier New',monospace\"><span style=\"font-weight: bold\"> Trainable params: </span><span style=\"color: #00af00; text-decoration-color: #00af00\">178,761</span> (698.29 KB)\n",
       "</pre>\n"
      ],
      "text/plain": [
       "\u001b[1m Trainable params: \u001b[0m\u001b[38;5;34m178,761\u001b[0m (698.29 KB)\n"
      ]
     },
     "metadata": {},
     "output_type": "display_data"
    },
    {
     "data": {
      "text/html": [
       "<pre style=\"white-space:pre;overflow-x:auto;line-height:normal;font-family:Menlo,'DejaVu Sans Mono',consolas,'Courier New',monospace\"><span style=\"font-weight: bold\"> Non-trainable params: </span><span style=\"color: #00af00; text-decoration-color: #00af00\">0</span> (0.00 B)\n",
       "</pre>\n"
      ],
      "text/plain": [
       "\u001b[1m Non-trainable params: \u001b[0m\u001b[38;5;34m0\u001b[0m (0.00 B)\n"
      ]
     },
     "metadata": {},
     "output_type": "display_data"
    },
    {
     "data": {
      "text/html": [
       "<pre style=\"white-space:pre;overflow-x:auto;line-height:normal;font-family:Menlo,'DejaVu Sans Mono',consolas,'Courier New',monospace\"><span style=\"font-weight: bold\"> Optimizer params: </span><span style=\"color: #00af00; text-decoration-color: #00af00\">357,524</span> (1.36 MB)\n",
       "</pre>\n"
      ],
      "text/plain": [
       "\u001b[1m Optimizer params: \u001b[0m\u001b[38;5;34m357,524\u001b[0m (1.36 MB)\n"
      ]
     },
     "metadata": {},
     "output_type": "display_data"
    }
   ],
   "source": [
    "model.summary()"
   ]
  },
  {
   "cell_type": "code",
   "execution_count": 58,
   "id": "3e0c1c70-de69-46a6-873a-f27eccdfc550",
   "metadata": {},
   "outputs": [],
   "source": [
    "pass_100_data = data_train.tail(100)"
   ]
  },
  {
   "cell_type": "code",
   "execution_count": 60,
   "id": "4bcc11e4-62ca-440e-bae4-115be73cea17",
   "metadata": {},
   "outputs": [],
   "source": [
    "data_test= pd.concat([pass_100_data, data_test], ignore_index=True)"
   ]
  },
  {
   "cell_type": "code",
   "execution_count": 62,
   "id": "7a4fad51-daa9-4998-854b-cc152319129b",
   "metadata": {},
   "outputs": [
    {
     "data": {
      "text/html": [
       "<div>\n",
       "<style scoped>\n",
       "    .dataframe tbody tr th:only-of-type {\n",
       "        vertical-align: middle;\n",
       "    }\n",
       "\n",
       "    .dataframe tbody tr th {\n",
       "        vertical-align: top;\n",
       "    }\n",
       "\n",
       "    .dataframe thead th {\n",
       "        text-align: right;\n",
       "    }\n",
       "</style>\n",
       "<table border=\"1\" class=\"dataframe\">\n",
       "  <thead>\n",
       "    <tr style=\"text-align: right;\">\n",
       "      <th></th>\n",
       "      <th>Close</th>\n",
       "    </tr>\n",
       "  </thead>\n",
       "  <tbody>\n",
       "    <tr>\n",
       "      <th>0</th>\n",
       "      <td>70.335999</td>\n",
       "    </tr>\n",
       "    <tr>\n",
       "      <th>1</th>\n",
       "      <td>70.139999</td>\n",
       "    </tr>\n",
       "    <tr>\n",
       "      <th>2</th>\n",
       "      <td>70.521004</td>\n",
       "    </tr>\n",
       "    <tr>\n",
       "      <th>3</th>\n",
       "      <td>70.850998</td>\n",
       "    </tr>\n",
       "    <tr>\n",
       "      <th>4</th>\n",
       "      <td>70.891998</td>\n",
       "    </tr>\n",
       "    <tr>\n",
       "      <th>...</th>\n",
       "      <td>...</td>\n",
       "    </tr>\n",
       "    <tr>\n",
       "      <th>648</th>\n",
       "      <td>95.309998</td>\n",
       "    </tr>\n",
       "    <tr>\n",
       "      <th>649</th>\n",
       "      <td>91.199997</td>\n",
       "    </tr>\n",
       "    <tr>\n",
       "      <th>650</th>\n",
       "      <td>90.860001</td>\n",
       "    </tr>\n",
       "    <tr>\n",
       "      <th>651</th>\n",
       "      <td>89.150002</td>\n",
       "    </tr>\n",
       "    <tr>\n",
       "      <th>652</th>\n",
       "      <td>89.629997</td>\n",
       "    </tr>\n",
       "  </tbody>\n",
       "</table>\n",
       "<p>653 rows × 1 columns</p>\n",
       "</div>"
      ],
      "text/plain": [
       "         Close\n",
       "0    70.335999\n",
       "1    70.139999\n",
       "2    70.521004\n",
       "3    70.850998\n",
       "4    70.891998\n",
       "..         ...\n",
       "648  95.309998\n",
       "649  91.199997\n",
       "650  90.860001\n",
       "651  89.150002\n",
       "652  89.629997\n",
       "\n",
       "[653 rows x 1 columns]"
      ]
     },
     "execution_count": 62,
     "metadata": {},
     "output_type": "execute_result"
    }
   ],
   "source": [
    "data_test"
   ]
  },
  {
   "cell_type": "code",
   "execution_count": 64,
   "id": "0e8918e5-77aa-4abb-b7ce-8c17b1614fc8",
   "metadata": {},
   "outputs": [],
   "source": [
    "data_test_scale = scaler.fit_transform(data_test)"
   ]
  },
  {
   "cell_type": "code",
   "execution_count": 66,
   "id": "6add240f-c2a7-44f7-88e1-6bd91eda0a88",
   "metadata": {},
   "outputs": [],
   "source": [
    "x = []\n",
    "y = []\n",
    "\n",
    "for i in range(100, data_test_scale.shape[0]):\n",
    "    x.append(data_test_scale[i-100:i])\n",
    "    y.append(data_test_scale[i,0])"
   ]
  },
  {
   "cell_type": "code",
   "execution_count": 68,
   "id": "67c54028-1e5d-499c-9ea1-3f0b14a89bbf",
   "metadata": {},
   "outputs": [],
   "source": [
    "x, y = np.array(x), np.array(y)"
   ]
  },
  {
   "cell_type": "code",
   "execution_count": 70,
   "id": "85495400-71d5-4ed1-8b10-c5e1bd5d6e66",
   "metadata": {},
   "outputs": [
    {
     "name": "stdout",
     "output_type": "stream",
     "text": [
      "\u001b[1m18/18\u001b[0m \u001b[32m━━━━━━━━━━━━━━━━━━━━\u001b[0m\u001b[37m\u001b[0m \u001b[1m2s\u001b[0m 91ms/step\n"
     ]
    }
   ],
   "source": [
    "y_predict = model.predict(x)"
   ]
  },
  {
   "cell_type": "code",
   "execution_count": 1,
   "id": "2785a44a-d875-4ade-ac8a-563b669484d5",
   "metadata": {},
   "outputs": [
    {
     "ename": "NameError",
     "evalue": "name 'y_predict' is not defined",
     "output_type": "error",
     "traceback": [
      "\u001b[1;31m---------------------------------------------------------------------------\u001b[0m",
      "\u001b[1;31mNameError\u001b[0m                                 Traceback (most recent call last)",
      "Cell \u001b[1;32mIn[1], line 1\u001b[0m\n\u001b[1;32m----> 1\u001b[0m y_predict\n",
      "\u001b[1;31mNameError\u001b[0m: name 'y_predict' is not defined"
     ]
    }
   ],
   "source": [
    "y_predict"
   ]
  },
  {
   "cell_type": "code",
   "execution_count": 74,
   "id": "141791f1-bd35-40da-a41f-3f2482af2479",
   "metadata": {},
   "outputs": [],
   "source": [
    "scale = 1/scaler.scale_"
   ]
  },
  {
   "cell_type": "code",
   "execution_count": 76,
   "id": "46542489-1cee-4fa3-9425-197dd2026093",
   "metadata": {},
   "outputs": [
    {
     "data": {
      "text/plain": [
       "array([82.71399689])"
      ]
     },
     "execution_count": 76,
     "metadata": {},
     "output_type": "execute_result"
    }
   ],
   "source": [
    "scale"
   ]
  },
  {
   "cell_type": "code",
   "execution_count": 78,
   "id": "9ddd5d14-3cae-40ac-bee1-251fec4b0d06",
   "metadata": {},
   "outputs": [],
   "source": [
    "y_predict = y_predict*scale"
   ]
  },
  {
   "cell_type": "code",
   "execution_count": 80,
   "id": "f12f6477-6ec2-49dc-aee1-e2e837f1022e",
   "metadata": {},
   "outputs": [],
   "source": [
    "y = y*scale"
   ]
  },
  {
   "cell_type": "code",
   "execution_count": 78,
   "id": "9f13abed-2feb-4129-b5e1-c2fefbaaf0c1",
   "metadata": {},
   "outputs": [
    {
     "data": {
      "text/plain": [
       "array([[0.05434426],\n",
       "       [0.05271222],\n",
       "       [0.05139763],\n",
       "       [0.05047223],\n",
       "       [0.04994879],\n",
       "       [0.04980475],\n",
       "       [0.05000524],\n",
       "       [0.05048312],\n",
       "       [0.05121584],\n",
       "       [0.05220914],\n",
       "       [0.05348522],\n",
       "       [0.05501067],\n",
       "       [0.0567315 ],\n",
       "       [0.05850987],\n",
       "       [0.06026795],\n",
       "       [0.06200989],\n",
       "       [0.06375742],\n",
       "       [0.06554576],\n",
       "       [0.06748375],\n",
       "       [0.06969042],\n",
       "       [0.07221855],\n",
       "       [0.07508334],\n",
       "       [0.07824787],\n",
       "       [0.08165304],\n",
       "       [0.08522852],\n",
       "       [0.08892566],\n",
       "       [0.0927073 ],\n",
       "       [0.09653374],\n",
       "       [0.10034094],\n",
       "       [0.10409107],\n",
       "       [0.10773726],\n",
       "       [0.11122835],\n",
       "       [0.11454664],\n",
       "       [0.11771354],\n",
       "       [0.12074021],\n",
       "       [0.12362222],\n",
       "       [0.12636363],\n",
       "       [0.12898923],\n",
       "       [0.13152668],\n",
       "       [0.13399696],\n",
       "       [0.13640896],\n",
       "       [0.1387626 ],\n",
       "       [0.14103736],\n",
       "       [0.14320055],\n",
       "       [0.14522564],\n",
       "       [0.14708451],\n",
       "       [0.14875668],\n",
       "       [0.15023206],\n",
       "       [0.15150336],\n",
       "       [0.15254794],\n",
       "       [0.1533564 ],\n",
       "       [0.15394758],\n",
       "       [0.15431524],\n",
       "       [0.15446607],\n",
       "       [0.1544294 ],\n",
       "       [0.15423977],\n",
       "       [0.15392184],\n",
       "       [0.15349907],\n",
       "       [0.15298768],\n",
       "       [0.15240719],\n",
       "       [0.15177379],\n",
       "       [0.15112078],\n",
       "       [0.15049728],\n",
       "       [0.14993873],\n",
       "       [0.1494551 ],\n",
       "       [0.1490395 ],\n",
       "       [0.14867921],\n",
       "       [0.14835842],\n",
       "       [0.14808604],\n",
       "       [0.1479222 ],\n",
       "       [0.14794142],\n",
       "       [0.14823084],\n",
       "       [0.14884488],\n",
       "       [0.14980299],\n",
       "       [0.15106846],\n",
       "       [0.15258538],\n",
       "       [0.15428944],\n",
       "       [0.15614544],\n",
       "       [0.15815012],\n",
       "       [0.1603675 ],\n",
       "       [0.16287702],\n",
       "       [0.1657781 ],\n",
       "       [0.16913034],\n",
       "       [0.17293772],\n",
       "       [0.17716396],\n",
       "       [0.18174491],\n",
       "       [0.1866047 ],\n",
       "       [0.19167662],\n",
       "       [0.19690622],\n",
       "       [0.20223443],\n",
       "       [0.20759137],\n",
       "       [0.21291673],\n",
       "       [0.21813347],\n",
       "       [0.22319054],\n",
       "       [0.22802595],\n",
       "       [0.2325559 ],\n",
       "       [0.23672965],\n",
       "       [0.24053048],\n",
       "       [0.24394178],\n",
       "       [0.24694859],\n",
       "       [0.24957185],\n",
       "       [0.25183611],\n",
       "       [0.25375368],\n",
       "       [0.25534727],\n",
       "       [0.25666482],\n",
       "       [0.25775923],\n",
       "       [0.2586657 ],\n",
       "       [0.25942057],\n",
       "       [0.26006465],\n",
       "       [0.2606159 ],\n",
       "       [0.26107009],\n",
       "       [0.26141963],\n",
       "       [0.26166317],\n",
       "       [0.26180537],\n",
       "       [0.26185161],\n",
       "       [0.26180556],\n",
       "       [0.26167638],\n",
       "       [0.26148118],\n",
       "       [0.26124243],\n",
       "       [0.26100736],\n",
       "       [0.26086851],\n",
       "       [0.26093788],\n",
       "       [0.26130639],\n",
       "       [0.26204789],\n",
       "       [0.26321776],\n",
       "       [0.2648517 ],\n",
       "       [0.26694571],\n",
       "       [0.26947372],\n",
       "       [0.27238834],\n",
       "       [0.27564845],\n",
       "       [0.27920889],\n",
       "       [0.28301829],\n",
       "       [0.28701286],\n",
       "       [0.29111876],\n",
       "       [0.29526356],\n",
       "       [0.29940238],\n",
       "       [0.30350005],\n",
       "       [0.30753188],\n",
       "       [0.31150463],\n",
       "       [0.31545812],\n",
       "       [0.31942213],\n",
       "       [0.32340425],\n",
       "       [0.32737105],\n",
       "       [0.3312813 ],\n",
       "       [0.33510744],\n",
       "       [0.33882422],\n",
       "       [0.34237754],\n",
       "       [0.34568297],\n",
       "       [0.34864082],\n",
       "       [0.35119128],\n",
       "       [0.35332869],\n",
       "       [0.35507196],\n",
       "       [0.35644566],\n",
       "       [0.35749269],\n",
       "       [0.35827793],\n",
       "       [0.35887579],\n",
       "       [0.35937751],\n",
       "       [0.35986528],\n",
       "       [0.3604195 ],\n",
       "       [0.36108646],\n",
       "       [0.36189381],\n",
       "       [0.362864  ],\n",
       "       [0.36400383],\n",
       "       [0.36529568],\n",
       "       [0.36673686],\n",
       "       [0.36833191],\n",
       "       [0.37009024],\n",
       "       [0.37201731],\n",
       "       [0.37412887],\n",
       "       [0.37642755],\n",
       "       [0.37891156],\n",
       "       [0.38156625],\n",
       "       [0.3843606 ],\n",
       "       [0.38726545],\n",
       "       [0.39023794],\n",
       "       [0.39324105],\n",
       "       [0.39624851],\n",
       "       [0.39922836],\n",
       "       [0.40216036],\n",
       "       [0.40502497],\n",
       "       [0.40780295],\n",
       "       [0.41046699],\n",
       "       [0.41297944],\n",
       "       [0.41531432],\n",
       "       [0.41748466],\n",
       "       [0.41952974],\n",
       "       [0.42149849],\n",
       "       [0.42341985],\n",
       "       [0.42531191],\n",
       "       [0.42719595],\n",
       "       [0.42909024],\n",
       "       [0.43102459],\n",
       "       [0.43301236],\n",
       "       [0.4350653 ],\n",
       "       [0.43714732],\n",
       "       [0.43923119],\n",
       "       [0.4413124 ],\n",
       "       [0.4433836 ],\n",
       "       [0.44549462],\n",
       "       [0.44774473],\n",
       "       [0.45018446],\n",
       "       [0.45282166],\n",
       "       [0.45564416],\n",
       "       [0.45859639],\n",
       "       [0.46162115],\n",
       "       [0.46466901],\n",
       "       [0.4676918 ],\n",
       "       [0.47064565],\n",
       "       [0.47351206],\n",
       "       [0.476291  ],\n",
       "       [0.47898505],\n",
       "       [0.48158901],\n",
       "       [0.48410339],\n",
       "       [0.48652844],\n",
       "       [0.48887033],\n",
       "       [0.49111335],\n",
       "       [0.49322753],\n",
       "       [0.49518834],\n",
       "       [0.49699639],\n",
       "       [0.49869467],\n",
       "       [0.50034742],\n",
       "       [0.50201882],\n",
       "       [0.50373978],\n",
       "       [0.50555087],\n",
       "       [0.50749412],\n",
       "       [0.50959802],\n",
       "       [0.51187917],\n",
       "       [0.5143145 ],\n",
       "       [0.51687228],\n",
       "       [0.51952751],\n",
       "       [0.52224602],\n",
       "       [0.5249985 ],\n",
       "       [0.52770984],\n",
       "       [0.5303252 ],\n",
       "       [0.53279852],\n",
       "       [0.53512254],\n",
       "       [0.5372975 ],\n",
       "       [0.53929101],\n",
       "       [0.54103327],\n",
       "       [0.54246783],\n",
       "       [0.54357634],\n",
       "       [0.54437448],\n",
       "       [0.54490593],\n",
       "       [0.5452133 ],\n",
       "       [0.54526503],\n",
       "       [0.54499945],\n",
       "       [0.54435014],\n",
       "       [0.54333126],\n",
       "       [0.54194693],\n",
       "       [0.54023213],\n",
       "       [0.53825406],\n",
       "       [0.5361108 ],\n",
       "       [0.53390799],\n",
       "       [0.53171466],\n",
       "       [0.52958068],\n",
       "       [0.52753629],\n",
       "       [0.52565155],\n",
       "       [0.52399522],\n",
       "       [0.52265114],\n",
       "       [0.52167836],\n",
       "       [0.52105959],\n",
       "       [0.52079937],\n",
       "       [0.5208313 ],\n",
       "       [0.52107326],\n",
       "       [0.52144714],\n",
       "       [0.52197894],\n",
       "       [0.52270313],\n",
       "       [0.52368423],\n",
       "       [0.52490409],\n",
       "       [0.52634485],\n",
       "       [0.52799618],\n",
       "       [0.52986901],\n",
       "       [0.53197541],\n",
       "       [0.53431631],\n",
       "       [0.53687932],\n",
       "       [0.53959433],\n",
       "       [0.54237885],\n",
       "       [0.54519966],\n",
       "       [0.54803499],\n",
       "       [0.55086   ],\n",
       "       [0.55364692],\n",
       "       [0.55639451],\n",
       "       [0.55909549],\n",
       "       [0.5616936 ],\n",
       "       [0.56412523],\n",
       "       [0.56635389],\n",
       "       [0.56829232],\n",
       "       [0.56992215],\n",
       "       [0.57120279],\n",
       "       [0.5720864 ],\n",
       "       [0.57257668],\n",
       "       [0.5726806 ],\n",
       "       [0.57242343],\n",
       "       [0.57189883],\n",
       "       [0.57122417],\n",
       "       [0.57049859],\n",
       "       [0.56981215],\n",
       "       [0.56920863],\n",
       "       [0.56867729],\n",
       "       [0.56823639],\n",
       "       [0.56787587],\n",
       "       [0.56754906],\n",
       "       [0.56719721],\n",
       "       [0.56678851],\n",
       "       [0.56634545],\n",
       "       [0.56590339],\n",
       "       [0.56551322],\n",
       "       [0.56519542],\n",
       "       [0.56495889],\n",
       "       [0.56480159],\n",
       "       [0.56469697],\n",
       "       [0.56462271],\n",
       "       [0.56456864],\n",
       "       [0.56443306],\n",
       "       [0.56410983],\n",
       "       [0.56350727],\n",
       "       [0.56258402],\n",
       "       [0.56135095],\n",
       "       [0.55986975],\n",
       "       [0.5581796 ],\n",
       "       [0.55632791],\n",
       "       [0.55431591],\n",
       "       [0.55213783],\n",
       "       [0.54978072],\n",
       "       [0.54717958],\n",
       "       [0.54428589],\n",
       "       [0.54103913],\n",
       "       [0.5374045 ],\n",
       "       [0.53337569],\n",
       "       [0.52905743],\n",
       "       [0.52460455],\n",
       "       [0.52017513],\n",
       "       [0.51607341],\n",
       "       [0.51250514],\n",
       "       [0.50961527],\n",
       "       [0.5074348 ],\n",
       "       [0.50593589],\n",
       "       [0.50507881],\n",
       "       [0.50478408],\n",
       "       [0.50487949],\n",
       "       [0.50518188],\n",
       "       [0.50559875],\n",
       "       [0.50607798],\n",
       "       [0.50652365],\n",
       "       [0.50683225],\n",
       "       [0.50689218],\n",
       "       [0.50659914],\n",
       "       [0.50594548],\n",
       "       [0.50495256],\n",
       "       [0.50369213],\n",
       "       [0.50225269],\n",
       "       [0.50072073],\n",
       "       [0.49916866],\n",
       "       [0.49763076],\n",
       "       [0.49604595],\n",
       "       [0.49434375],\n",
       "       [0.4925578 ],\n",
       "       [0.49074232],\n",
       "       [0.48892495],\n",
       "       [0.48707156],\n",
       "       [0.4851733 ],\n",
       "       [0.48328768],\n",
       "       [0.48149465],\n",
       "       [0.47989852],\n",
       "       [0.47857119],\n",
       "       [0.47762048],\n",
       "       [0.47709843],\n",
       "       [0.47706122],\n",
       "       [0.47755878],\n",
       "       [0.47860482],\n",
       "       [0.48019567],\n",
       "       [0.4823055 ],\n",
       "       [0.48479095],\n",
       "       [0.48754628],\n",
       "       [0.49053036],\n",
       "       [0.49367949],\n",
       "       [0.49687137],\n",
       "       [0.4999757 ],\n",
       "       [0.50285155],\n",
       "       [0.5053284 ],\n",
       "       [0.50726109],\n",
       "       [0.50858865],\n",
       "       [0.50924139],\n",
       "       [0.50920099],\n",
       "       [0.50851666],\n",
       "       [0.50718483],\n",
       "       [0.50517618],\n",
       "       [0.50247847],\n",
       "       [0.49911743],\n",
       "       [0.49509282],\n",
       "       [0.49040641],\n",
       "       [0.48511842],\n",
       "       [0.47935763],\n",
       "       [0.47321548],\n",
       "       [0.46681624],\n",
       "       [0.46030283],\n",
       "       [0.45375603],\n",
       "       [0.44721351],\n",
       "       [0.44069271],\n",
       "       [0.43422206],\n",
       "       [0.42782763],\n",
       "       [0.42154987],\n",
       "       [0.41544701],\n",
       "       [0.40957379],\n",
       "       [0.40396707],\n",
       "       [0.39861309],\n",
       "       [0.39346884],\n",
       "       [0.3884976 ],\n",
       "       [0.38365798],\n",
       "       [0.37888075],\n",
       "       [0.37412305],\n",
       "       [0.3694068 ],\n",
       "       [0.36479704],\n",
       "       [0.36037401],\n",
       "       [0.3562216 ],\n",
       "       [0.3524311 ],\n",
       "       [0.34905572],\n",
       "       [0.34617953],\n",
       "       [0.343876  ],\n",
       "       [0.34214005],\n",
       "       [0.34090682],\n",
       "       [0.34004235],\n",
       "       [0.3393747 ],\n",
       "       [0.33876718],\n",
       "       [0.33811956],\n",
       "       [0.33734665],\n",
       "       [0.33642109],\n",
       "       [0.33537089],\n",
       "       [0.33424447],\n",
       "       [0.33312487],\n",
       "       [0.33212756],\n",
       "       [0.33132179],\n",
       "       [0.33071372],\n",
       "       [0.33026766],\n",
       "       [0.32991562],\n",
       "       [0.32961292],\n",
       "       [0.32937134],\n",
       "       [0.32924289],\n",
       "       [0.32930559],\n",
       "       [0.32963726],\n",
       "       [0.33025098],\n",
       "       [0.33109823],\n",
       "       [0.33208819],\n",
       "       [0.33312837],\n",
       "       [0.33413655],\n",
       "       [0.33504974],\n",
       "       [0.33585936],\n",
       "       [0.33657912],\n",
       "       [0.3371984 ],\n",
       "       [0.33765101],\n",
       "       [0.33784717],\n",
       "       [0.33775138],\n",
       "       [0.33741667],\n",
       "       [0.33693795],\n",
       "       [0.3364204 ],\n",
       "       [0.33594799],\n",
       "       [0.33559229],\n",
       "       [0.33543009],\n",
       "       [0.33552434],\n",
       "       [0.33590982],\n",
       "       [0.33659719],\n",
       "       [0.33757112],\n",
       "       [0.3388357 ],\n",
       "       [0.34038099],\n",
       "       [0.34221604],\n",
       "       [0.34434806],\n",
       "       [0.34676876],\n",
       "       [0.34942887],\n",
       "       [0.35226216],\n",
       "       [0.35515727],\n",
       "       [0.35797381],\n",
       "       [0.360581  ],\n",
       "       [0.36289408],\n",
       "       [0.36484854],\n",
       "       [0.36634973],\n",
       "       [0.3673165 ],\n",
       "       [0.36769535],\n",
       "       [0.36747518],\n",
       "       [0.36667465],\n",
       "       [0.36531551],\n",
       "       [0.3635003 ],\n",
       "       [0.36130469],\n",
       "       [0.3588003 ],\n",
       "       [0.35607528],\n",
       "       [0.35319589],\n",
       "       [0.35017125],\n",
       "       [0.34699346],\n",
       "       [0.34364833],\n",
       "       [0.34013406],\n",
       "       [0.33645059],\n",
       "       [0.33258448],\n",
       "       [0.32852632],\n",
       "       [0.32427438],\n",
       "       [0.31983218],\n",
       "       [0.31520878],\n",
       "       [0.31044384],\n",
       "       [0.30558196],\n",
       "       [0.30064311],\n",
       "       [0.29565901],\n",
       "       [0.29069675],\n",
       "       [0.28584509],\n",
       "       [0.28118723],\n",
       "       [0.27677916],\n",
       "       [0.27264043],\n",
       "       [0.26876773],\n",
       "       [0.26514862],\n",
       "       [0.26177754],\n",
       "       [0.25864384],\n",
       "       [0.25574095],\n",
       "       [0.25308446],\n",
       "       [0.25068787],\n",
       "       [0.24855401],\n",
       "       [0.24668402],\n",
       "       [0.24508789],\n",
       "       [0.24378937],\n",
       "       [0.24277798],\n",
       "       [0.24194048],\n",
       "       [0.24115766],\n",
       "       [0.24035935],\n",
       "       [0.23946595],\n",
       "       [0.23835078],\n",
       "       [0.23684824],\n",
       "       [0.2348326 ],\n",
       "       [0.23228601],\n",
       "       [0.22925556],\n",
       "       [0.22579837],\n",
       "       [0.22205216],\n",
       "       [0.21815662],\n",
       "       [0.2142664 ],\n",
       "       [0.21054333],\n",
       "       [0.20712209],\n",
       "       [0.20408558],\n",
       "       [0.20153194],\n",
       "       [0.19947764],\n",
       "       [0.19790875],\n",
       "       [0.19683046],\n",
       "       [0.19627289],\n",
       "       [0.19616501],\n",
       "       [0.1964171 ],\n",
       "       [0.19698888],\n",
       "       [0.19787655],\n",
       "       [0.19907005],\n",
       "       [0.20053737],\n",
       "       [0.20220967],\n",
       "       [0.20398247],\n",
       "       [0.20575131],\n",
       "       [0.2074085 ],\n",
       "       [0.20886148],\n",
       "       [0.21006661],\n",
       "       [0.21101337],\n",
       "       [0.21167291],\n",
       "       [0.2120253 ],\n",
       "       [0.21205392]])"
      ]
     },
     "execution_count": 78,
     "metadata": {},
     "output_type": "execute_result"
    }
   ],
   "source": [
    "y_predict"
   ]
  },
  {
   "cell_type": "code",
   "execution_count": 82,
   "id": "3c8a7bda-8246-4deb-9eb7-20f1aaedb738",
   "metadata": {},
   "outputs": [
    {
     "data": {
      "image/png": "[encoded data removed]",
      "text/plain": [
       "<Figure size 1000x800 with 1 Axes>"
      ]
     },
     "metadata": {},
     "output_type": "display_data"
    }
   ],
   "source": [
    "plt.figure(figsize=(10,8))\n",
    "plt.plot(y_predict, 'r', label = 'Predicted Price')\n",
    "plt.plot(y, 'g', label = 'Original Price')\n",
    "plt.xlabel('Time')\n",
    "plt.ylabel('Price')\n",
    "plt.legend()\n",
    "plt.show()"
   ]
  },
  {
   "cell_type": "code",
   "execution_count": 84,
   "id": "2c9bf6d0-e9e6-4d67-be93-84f395595542",
   "metadata": {},
   "outputs": [],
   "source": [
    "model.save('Stock Prediction Model.keras')"
   ]
  },
  {
   "cell_type": "code",
   "execution_count": null,
   "id": "5e8d001f-db15-4cc6-81c7-7c44b7488623",
   "metadata": {},
   "outputs": [],
   "source": []
  }
 ],
 "metadata": {
  "kernelspec": {
   "display_name": "Python 3 (ipykernel)",
   "language": "python",
   "name": "python3"
  },
  "language_info": {
   "codemirror_mode": {
    "name": "ipython",
    "version": 3
   },
   "file_extension": ".py",
   "mimetype": "text/x-python",
   "name": "python",
   "nbconvert_exporter": "python",
   "pygments_lexer": "ipython3",
   "version": "3.12.4"
  }
 },
 "nbformat": 4,
 "nbformat_minor": 5
}
